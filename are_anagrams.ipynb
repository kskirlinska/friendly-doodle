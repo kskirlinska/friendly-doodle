{
 "cells": [
  {
   "cell_type": "markdown",
   "metadata": {},
   "source": [
    "**Seria warsztatów z analizy danych w Pythonie**\n",
    "\n",
    "_Zadanie rekrutacyjne_\n",
    "\n",
    "Napisz funkcję <code><font color=\"blue\">are_anagrams</font>(s1, s2, s3)</code>, która zwróci:\n",
    "\n",
    "* <code>True</code>, jeżeli łańcuchy znaków <code>s1, s2, s3</code> są anagramami,\n",
    "\n",
    "* <code>False</code>, jeżeli łańcuchy znaków <code>s1, s2, s3</code> nie są anagramami.\n",
    "\n",
    "Załóż, że maksymalna długość każdego z łańcuchów znaków jest równa **5**.\n",
    "\n",
    "Uzasadnij zaproponowane rozwiązanie, umieszczając komentarze w treści kodu."
   ]
  },
  {
   "cell_type": "code",
   "execution_count": 1,
   "metadata": {},
   "outputs": [],
   "source": [
    "def are_anagrams(s1, s2, s3):\n",
    "    # sprawdzam czy długość znaków jest mniejsza niż maksymalna wartość:\n",
    "    if (len(s1)<=5 and len(s2)<=5 and len(s3)<=5):\n",
    "        # każdy anagram musi mieć taką samą długość, dlatego sprawdzam czy długości tych łańcuchów są takie same:\n",
    "        if (len(s1)==len(s2) and len(s2)==len(s3)):\n",
    "        #sortuje każdy z wprowadzonych stringów i sprawdzam czy są takie same:\n",
    "            if (sorted(s1)==sorted(s2) and sorted(s2)==sorted(s3)):\n",
    "                result=True\n",
    "            else:\n",
    "                result=False        \n",
    "        else:\n",
    "            result=False\n",
    "    else:\n",
    "        result=False\n",
    "        print('Maksymalna długość łańcucha to 5. Zadeklaruj krótszy.')\n",
    "    return result"
   ]
  },
  {
   "cell_type": "code",
   "execution_count": 2,
   "metadata": {},
   "outputs": [
    {
     "name": "stdout",
     "output_type": "stream",
     "text": [
      "True\n"
     ]
    }
   ],
   "source": [
    "#testuje użycie funkcji - zwraca True\n",
    "s1='adam'\n",
    "s2='dama'\n",
    "s3='mada'\n",
    "test1=are_anagrams(s1,s2,s3)\n",
    "print(test1)"
   ]
  },
  {
   "cell_type": "code",
   "execution_count": 3,
   "metadata": {},
   "outputs": [
    {
     "name": "stdout",
     "output_type": "stream",
     "text": [
      "False\n"
     ]
    }
   ],
   "source": [
    "#testuje użycie funkcji - zwraca False - przypadek 1: inna długość łańcucha\n",
    "s1='adam'\n",
    "s2='dama'\n",
    "s3='madak'\n",
    "test2=are_anagrams(s1,s2,s3)\n",
    "print(test2)"
   ]
  },
  {
   "cell_type": "code",
   "execution_count": 4,
   "metadata": {},
   "outputs": [
    {
     "name": "stdout",
     "output_type": "stream",
     "text": [
      "False\n"
     ]
    }
   ],
   "source": [
    "#testuje użycie funkcji - zwraca False - przypadek 2: ta sama długość łańcucha\n",
    "s1='adam'\n",
    "s2='dama'\n",
    "s3='madk'\n",
    "test3=are_anagrams(s1,s2,s3)\n",
    "print(test3)"
   ]
  },
  {
   "cell_type": "code",
   "execution_count": 5,
   "metadata": {},
   "outputs": [
    {
     "name": "stdout",
     "output_type": "stream",
     "text": [
      "Maksymalna długość łańcucha to 5. Zadeklaruj krótszy.\n",
      "False\n"
     ]
    }
   ],
   "source": [
    "#testuje użycie funkcji - wyświetla wiadomość - przypadek 3: łańcuch dłuższy niż 5 znaków\n",
    "s1='adamek'\n",
    "s2='dama'\n",
    "s3='madk'\n",
    "test4=are_anagrams(s1,s2,s3)\n",
    "print(test4)"
   ]
  },
  {
   "cell_type": "code",
   "execution_count": null,
   "metadata": {},
   "outputs": [],
   "source": []
  }
 ],
 "metadata": {
  "celltoolbar": "Edit Metadata",
  "kernelspec": {
   "display_name": "Python 3",
   "language": "python",
   "name": "python3"
  },
  "language_info": {
   "codemirror_mode": {
    "name": "ipython",
    "version": 3
   },
   "file_extension": ".py",
   "mimetype": "text/x-python",
   "name": "python",
   "nbconvert_exporter": "python",
   "pygments_lexer": "ipython3",
   "version": "3.8.3"
  }
 },
 "nbformat": 4,
 "nbformat_minor": 2
}
